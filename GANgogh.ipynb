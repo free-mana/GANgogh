{
 "cells": [
  {
   "cell_type": "code",
   "execution_count": 6,
   "outputs": [],
   "source": [
    "import torch\n",
    "import torchvision\n",
    "import numpy as np\n",
    "from numpy import asarray\n",
    "import PIL\n",
    "from PIL import Image\n",
    "import os"
   ],
   "metadata": {
    "collapsed": false,
    "pycharm": {
     "name": "#%%\n"
    }
   }
  },
  {
   "cell_type": "code",
   "execution_count": 2,
   "metadata": {
    "collapsed": true
   },
   "outputs": [
    {
     "name": "stdout",
     "output_type": "stream",
     "text": [
      "Existing TorchGAN v0.1.0 installation found\n"
     ]
    }
   ],
   "source": [
    "# from torchGAN tutorial\n",
    "try:\n",
    "    import torchgan\n",
    "\n",
    "    print(f\"Existing TorchGAN {torchgan.__version__} installation found\")\n",
    "except ImportError:\n",
    "    import subprocess\n",
    "    import sys\n",
    "\n",
    "    subprocess.check_call([sys.executable, \"-m\", \"pip\", \"install\", \"torchgan\"])\n",
    "    import torchgan\n",
    "\n",
    "    print(f\"Installed TorchGAN {torchgan.__version__}\")"
   ]
  },
  {
   "cell_type": "code",
   "execution_count": 18,
   "outputs": [
    {
     "name": "stdout",
     "output_type": "stream",
     "text": [
      "data/pictures/unprocessed/late/vangoghmuseum-s0004V1962v-800.jpg\n",
      "data/pictures/unprocessed/late/vangoghmuseum-s0012V1962-800.jpg\n",
      "data/pictures/unprocessed/late/vangoghmuseum-s0013V1962-800.jpg\n",
      "data/pictures/unprocessed/late/vangoghmuseum-s0014V1962-800.jpg\n",
      "data/pictures/unprocessed/late/vangoghmuseum-s0015V1962-800.jpg\n",
      "data/pictures/unprocessed/late/vangoghmuseum-s0016V1962-800.jpg\n",
      "data/pictures/unprocessed/late/vangoghmuseum-s0017V1962-800.jpg\n",
      "data/pictures/unprocessed/late/vangoghmuseum-s0018V1962-800.jpg\n",
      "data/pictures/unprocessed/late/vangoghmuseum-s0019V1962-800.jpg\n",
      "data/pictures/unprocessed/late/vangoghmuseum-s0020V1962-800.jpg\n",
      "data/pictures/unprocessed/late/vangoghmuseum-s0021V1962-800.jpg\n",
      "data/pictures/unprocessed/late/vangoghmuseum-s0022V1962-800.jpg\n",
      "data/pictures/unprocessed/late/vangoghmuseum-s0023V1962-800.jpg\n",
      "data/pictures/unprocessed/late/vangoghmuseum-s0024V1962-800.jpg\n",
      "data/pictures/unprocessed/late/vangoghmuseum-s0025V1962-800.jpg\n",
      "data/pictures/unprocessed/late/vangoghmuseum-s0026V1962-800.jpg\n",
      "data/pictures/unprocessed/late/vangoghmuseum-s0027V1962-800.jpg\n",
      "data/pictures/unprocessed/late/vangoghmuseum-s0028V1962-800.jpg\n",
      "data/pictures/unprocessed/late/vangoghmuseum-s0029V1962-800.jpg\n",
      "data/pictures/unprocessed/late/vangoghmuseum-s0030V1962-800.jpg\n",
      "data/pictures/unprocessed/late/vangoghmuseum-s0031V1962-800.jpg\n",
      "data/pictures/unprocessed/late/vangoghmuseum-s0032V1962-800.jpg\n",
      "data/pictures/unprocessed/late/vangoghmuseum-s0033V1962-800.jpg\n",
      "data/pictures/unprocessed/late/vangoghmuseum-s0034V1962-800.jpg\n",
      "data/pictures/unprocessed/late/vangoghmuseum-s0035V1962-800.jpg\n",
      "data/pictures/unprocessed/late/vangoghmuseum-s0036V1962-800.jpg\n",
      "data/pictures/unprocessed/late/vangoghmuseum-s0037V1962-800.jpg\n",
      "data/pictures/unprocessed/late/vangoghmuseum-s0038V1962-800.jpg\n",
      "data/pictures/unprocessed/late/vangoghmuseum-s0039V1962-800.jpg\n",
      "data/pictures/unprocessed/late/vangoghmuseum-s0040V1962-800.jpg\n",
      "data/pictures/unprocessed/late/vangoghmuseum-s0041V1962-800.jpg\n",
      "data/pictures/unprocessed/late/vangoghmuseum-s0042V1962-800.jpg\n",
      "data/pictures/unprocessed/late/vangoghmuseum-s0043V1962-800.jpg\n",
      "data/pictures/unprocessed/late/vangoghmuseum-s0044V1962-800.jpg\n",
      "data/pictures/unprocessed/late/vangoghmuseum-s0045V1962-800.jpg\n",
      "data/pictures/unprocessed/late/vangoghmuseum-s0046V1962-800.jpg\n",
      "data/pictures/unprocessed/late/vangoghmuseum-s0047V1962-800.jpg\n",
      "data/pictures/unprocessed/late/vangoghmuseum-s0048V1962-800.jpg\n",
      "data/pictures/unprocessed/late/vangoghmuseum-s0049V1962-800.jpg\n",
      "data/pictures/unprocessed/late/vangoghmuseum-s0050V1962-800.jpg\n",
      "data/pictures/unprocessed/late/vangoghmuseum-s0051V1962-800.jpg\n",
      "data/pictures/unprocessed/late/vangoghmuseum-s0055V1962-800.jpg\n",
      "data/pictures/unprocessed/late/vangoghmuseum-s0056V1962-800.jpg\n",
      "data/pictures/unprocessed/late/vangoghmuseum-s0057V1962-800.jpg\n",
      "data/pictures/unprocessed/late/vangoghmuseum-s0060V1962v-800.jpg\n",
      "data/pictures/unprocessed/late/vangoghmuseum-s0063V1962-800.jpg\n",
      "data/pictures/unprocessed/late/vangoghmuseum-s0064V1962-800.jpg\n",
      "data/pictures/unprocessed/late/vangoghmuseum-s0065V1962-800.jpg\n",
      "data/pictures/unprocessed/late/vangoghmuseum-s0066V1962-800.jpg\n",
      "data/pictures/unprocessed/late/vangoghmuseum-s0067V1962-800.jpg\n",
      "data/pictures/unprocessed/late/vangoghmuseum-s0068V1962v-800.jpg\n",
      "data/pictures/unprocessed/late/vangoghmuseum-s0071V1962v-800.jpg\n",
      "data/pictures/unprocessed/late/vangoghmuseum-s0075V1962-800.jpg\n",
      "data/pictures/unprocessed/late/vangoghmuseum-s0077V1962-800.jpg\n",
      "data/pictures/unprocessed/late/vangoghmuseum-s0078V1962-800.jpg\n",
      "data/pictures/unprocessed/late/vangoghmuseum-s0079V1962-800.jpg\n",
      "data/pictures/unprocessed/late/vangoghmuseum-s0080V1962-800.jpg\n",
      "data/pictures/unprocessed/late/vangoghmuseum-s0081V1962-800.jpg\n",
      "data/pictures/unprocessed/late/vangoghmuseum-s0082V1962-800.jpg\n",
      "data/pictures/unprocessed/late/vangoghmuseum-s0086V1962-800.jpg\n",
      "data/pictures/unprocessed/late/vangoghmuseum-s0088V1962-800.jpg\n",
      "data/pictures/unprocessed/late/vangoghmuseum-s0089V1962-800.jpg\n",
      "data/pictures/unprocessed/late/vangoghmuseum-s0093V1962-800.jpg\n",
      "data/pictures/unprocessed/late/vangoghmuseum-s0094V1962-800.jpg\n",
      "data/pictures/unprocessed/late/vangoghmuseum-s0097V1962v-800.jpg\n",
      "data/pictures/unprocessed/late/vangoghmuseum-s0098V1962-800.jpg\n",
      "data/pictures/unprocessed/late/vangoghmuseum-s0099V1962-800.jpg\n",
      "data/pictures/unprocessed/late/vangoghmuseum-s0100V1962-800.jpg\n",
      "data/pictures/unprocessed/late/vangoghmuseum-s0101V1962-800.jpg\n",
      "data/pictures/unprocessed/late/vangoghmuseum-s0102V1962-800.jpg\n",
      "data/pictures/unprocessed/late/vangoghmuseum-s0103V1962-800.jpg\n",
      "data/pictures/unprocessed/late/vangoghmuseum-s0104V1962-800.jpg\n",
      "data/pictures/unprocessed/late/vangoghmuseum-s0105V1962-800.jpg\n",
      "data/pictures/unprocessed/late/vangoghmuseum-s0106V1962-800.jpg\n",
      "data/pictures/unprocessed/late/vangoghmuseum-s0107V1962-800.jpg\n",
      "data/pictures/unprocessed/late/vangoghmuseum-s0108V1962-800.jpg\n",
      "data/pictures/unprocessed/late/vangoghmuseum-s0109V1962-800.jpg\n",
      "data/pictures/unprocessed/late/vangoghmuseum-s0110V1962-800.jpg\n",
      "data/pictures/unprocessed/late/vangoghmuseum-s0111V1962-800.jpg\n",
      "data/pictures/unprocessed/late/vangoghmuseum-s0112V1962-800.jpg\n",
      "data/pictures/unprocessed/late/vangoghmuseum-s0113V1962-800.jpg\n",
      "data/pictures/unprocessed/late/vangoghmuseum-s0114V1962-800.jpg\n",
      "data/pictures/unprocessed/late/vangoghmuseum-s0115V1962-800.jpg\n",
      "data/pictures/unprocessed/late/vangoghmuseum-s0116V1962-800.jpg\n",
      "data/pictures/unprocessed/late/vangoghmuseum-s0117V1962-800.jpg\n",
      "data/pictures/unprocessed/late/vangoghmuseum-s0118V1962-800.jpg\n",
      "data/pictures/unprocessed/late/vangoghmuseum-s0119V1962-800.jpg\n",
      "data/pictures/unprocessed/late/vangoghmuseum-s0120V1962-800.jpg\n",
      "data/pictures/unprocessed/late/vangoghmuseum-s0121V1962-800.jpg\n",
      "data/pictures/unprocessed/late/vangoghmuseum-s0122V1962-800.jpg\n",
      "data/pictures/unprocessed/late/vangoghmuseum-s0123V1962-800.jpg\n",
      "data/pictures/unprocessed/late/vangoghmuseum-s0124V1962-800.jpg\n",
      "data/pictures/unprocessed/late/vangoghmuseum-s0125V1962-800.jpg\n",
      "data/pictures/unprocessed/late/vangoghmuseum-s0126V1962-800.jpg\n",
      "data/pictures/unprocessed/late/vangoghmuseum-s0127V1962-800.jpg\n",
      "data/pictures/unprocessed/late/vangoghmuseum-s0128V1962-800.jpg\n",
      "data/pictures/unprocessed/late/vangoghmuseum-s0131V1962-800.jpg\n",
      "data/pictures/unprocessed/late/vangoghmuseum-s0133M1970-800.jpg\n",
      "data/pictures/unprocessed/late/vangoghmuseum-s0134V1962-800.jpg\n",
      "data/pictures/unprocessed/late/vangoghmuseum-s0135V1962v-800.jpg\n",
      "data/pictures/unprocessed/late/vangoghmuseum-s0144V1962-800.jpg\n",
      "data/pictures/unprocessed/late/vangoghmuseum-s0145V1962-800.jpg\n",
      "data/pictures/unprocessed/late/vangoghmuseum-s0146V1962-800.jpg\n",
      "data/pictures/unprocessed/late/vangoghmuseum-s0147V1962-800.jpg\n",
      "data/pictures/unprocessed/late/vangoghmuseum-s0148V1962-800.jpg\n",
      "data/pictures/unprocessed/late/vangoghmuseum-s0149V1962-800.jpg\n",
      "data/pictures/unprocessed/late/vangoghmuseum-s0155V1962-800.jpg\n",
      "data/pictures/unprocessed/late/vangoghmuseum-s0156V1962-800.jpg\n",
      "data/pictures/unprocessed/late/vangoghmuseum-s0157V1962-800.jpg\n",
      "data/pictures/unprocessed/late/vangoghmuseum-s0161V1962-800.jpg\n",
      "data/pictures/unprocessed/late/vangoghmuseum-s0162V1962-800.jpg\n",
      "data/pictures/unprocessed/late/vangoghmuseum-s0163V1962-800.jpg\n",
      "data/pictures/unprocessed/late/vangoghmuseum-s0164V1962-800.jpg\n",
      "data/pictures/unprocessed/late/vangoghmuseum-s0165V1962-800.jpg\n",
      "data/pictures/unprocessed/late/vangoghmuseum-s0166V1962-800.jpg\n",
      "data/pictures/unprocessed/late/vangoghmuseum-s0167V1962-800.jpg\n",
      "data/pictures/unprocessed/late/vangoghmuseum-s0168V1962-800.jpg\n",
      "data/pictures/unprocessed/late/vangoghmuseum-s0169V1962-800.jpg\n",
      "data/pictures/unprocessed/late/vangoghmuseum-s0170V1962-800.jpg\n",
      "data/pictures/unprocessed/late/vangoghmuseum-s0171V1962-800.jpg\n",
      "data/pictures/unprocessed/late/vangoghmuseum-s0172V1962-800.jpg\n",
      "data/pictures/unprocessed/late/vangoghmuseum-s0173V1962-800.jpg\n",
      "data/pictures/unprocessed/late/vangoghmuseum-s0174V1962-800.jpg\n",
      "data/pictures/unprocessed/late/vangoghmuseum-s0175V1962-800.jpg\n",
      "data/pictures/unprocessed/late/vangoghmuseum-s0176V1962-800.jpg\n",
      "data/pictures/unprocessed/late/vangoghmuseum-s0177V1962-800.jpg\n",
      "data/pictures/unprocessed/late/vangoghmuseum-s0178V1962-800.jpg\n",
      "data/pictures/unprocessed/late/vangoghmuseum-s0179V1962-800.jpg\n",
      "data/pictures/unprocessed/late/vangoghmuseum-s0180V1962-800.jpg\n",
      "data/pictures/unprocessed/late/vangoghmuseum-s0181V1962-800.jpg\n",
      "data/pictures/unprocessed/late/vangoghmuseum-s0182V1962-800.jpg\n",
      "data/pictures/unprocessed/late/vangoghmuseum-s0183V1962-800.jpg\n",
      "data/pictures/unprocessed/late/vangoghmuseum-s0184V1962-800.jpg\n",
      "data/pictures/unprocessed/late/vangoghmuseum-s0185V1962-800.jpg\n",
      "data/pictures/unprocessed/late/vangoghmuseum-s0186V1962-800.jpg\n",
      "data/pictures/unprocessed/late/vangoghmuseum-s0187V1962-800.jpg\n",
      "data/pictures/unprocessed/late/vangoghmuseum-s0188V1962-800.jpg\n",
      "data/pictures/unprocessed/late/vangoghmuseum-s0189V1962-800.jpg\n",
      "data/pictures/unprocessed/late/vangoghmuseum-s0190V1962-800.jpg\n",
      "data/pictures/unprocessed/late/vangoghmuseum-s0193V1962-800.jpg\n",
      "data/pictures/unprocessed/late/vangoghmuseum-s0194V1962-800.jpg\n",
      "data/pictures/unprocessed/late/vangoghmuseum-s0195V1962-800.jpg\n",
      "data/pictures/unprocessed/late/vangoghmuseum-s0196V1962-800.jpg\n",
      "data/pictures/unprocessed/late/vangoghmuseum-s0197V1962-800.jpg\n",
      "data/pictures/unprocessed/late/vangoghmuseum-s0198V1962-800.jpg\n",
      "data/pictures/unprocessed/late/vangoghmuseum-s0199V1962-800.jpg\n",
      "data/pictures/unprocessed/late/vangoghmuseum-s0200V1962-800.jpg\n",
      "data/pictures/unprocessed/late/vangoghmuseum-s0201V1962-800.jpg\n",
      "data/pictures/unprocessed/late/vangoghmuseum-s0202V1962-800.jpg\n",
      "data/pictures/unprocessed/late/vangoghmuseum-s0257V1962-800.jpg\n",
      "data/pictures/unprocessed/late/vangoghmuseum-s0417N1990-800.jpg\n"
     ]
    }
   ],
   "source": [
    "# assign directory\n",
    "directory = 'data/pictures/preprocessed/complete/'\n",
    "\n",
    "# iterate over files in that directory\n",
    "for filename in os.scandir(directory):\n",
    "    if filename.is_file():\n",
    "        print(filename.path)\n",
    "        image = Image.open(filename.path)\n",
    "        arr = asarray(image)\n",
    "        np.save(filename.path, arr)"
   ],
   "metadata": {
    "collapsed": false,
    "pycharm": {
     "name": "#%%\n"
    }
   }
  },
  {
   "cell_type": "code",
   "execution_count": null,
   "outputs": [],
   "source": [],
   "metadata": {
    "collapsed": false,
    "pycharm": {
     "name": "#%%\n"
    }
   }
  }
 ],
 "metadata": {
  "kernelspec": {
   "display_name": "Python 3",
   "language": "python",
   "name": "python3"
  },
  "language_info": {
   "codemirror_mode": {
    "name": "ipython",
    "version": 2
   },
   "file_extension": ".py",
   "mimetype": "text/x-python",
   "name": "python",
   "nbconvert_exporter": "python",
   "pygments_lexer": "ipython2",
   "version": "2.7.6"
  }
 },
 "nbformat": 4,
 "nbformat_minor": 0
}